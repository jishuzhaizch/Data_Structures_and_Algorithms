{
 "cells": [
  {
   "cell_type": "markdown",
   "metadata": {},
   "source": [
    "## 求和"
   ]
  },
  {
   "cell_type": "markdown",
   "metadata": {},
   "source": [
    "写一个递归程序求得0到n的和（1到n的和）。"
   ]
  },
  {
   "cell_type": "code",
   "execution_count": 1,
   "metadata": {},
   "outputs": [],
   "source": [
    "def get_sum(n):\n",
    "    if n == 0:\n",
    "        return 0\n",
    "    return get_sum(n-1) + n"
   ]
  },
  {
   "cell_type": "code",
   "execution_count": 2,
   "metadata": {},
   "outputs": [
    {
     "data": {
      "text/plain": [
       "55"
      ]
     },
     "execution_count": 2,
     "metadata": {},
     "output_type": "execute_result"
    }
   ],
   "source": [
    "n = 10\n",
    "res = get_sum(n)\n",
    "res"
   ]
  },
  {
   "cell_type": "markdown",
   "metadata": {},
   "source": [
    "## 阶乘"
   ]
  },
  {
   "cell_type": "markdown",
   "metadata": {},
   "source": [
    "求解1x2x3x4...xn"
   ]
  },
  {
   "cell_type": "code",
   "execution_count": 3,
   "metadata": {},
   "outputs": [],
   "source": [
    "def get_factorial(n):\n",
    "    if n <= 0:\n",
    "        return False\n",
    "    if n == 1:\n",
    "        return 1\n",
    "    return get_factorial(n-1) * n"
   ]
  },
  {
   "cell_type": "code",
   "execution_count": 4,
   "metadata": {},
   "outputs": [
    {
     "data": {
      "text/plain": [
       "3628800"
      ]
     },
     "execution_count": 4,
     "metadata": {},
     "output_type": "execute_result"
    }
   ],
   "source": [
    "res = get_factorial(10)\n",
    "res"
   ]
  },
  {
   "cell_type": "code",
   "execution_count": 5,
   "metadata": {},
   "outputs": [
    {
     "data": {
      "text/plain": [
       "120"
      ]
     },
     "execution_count": 5,
     "metadata": {},
     "output_type": "execute_result"
    }
   ],
   "source": [
    "res = get_factorial(5)\n",
    "res"
   ]
  },
  {
   "cell_type": "markdown",
   "metadata": {},
   "source": [
    "## 斐波那契数列"
   ]
  },
  {
   "cell_type": "markdown",
   "metadata": {},
   "source": [
    "求斐波那契数列的第n项"
   ]
  },
  {
   "cell_type": "code",
   "execution_count": 6,
   "metadata": {},
   "outputs": [],
   "source": [
    "def fibonacci(n):\n",
    "    if n <= 2:\n",
    "        return 1\n",
    "    return fibonacci(n-1) + fibonacci(n-2)"
   ]
  },
  {
   "cell_type": "code",
   "execution_count": 7,
   "metadata": {},
   "outputs": [
    {
     "data": {
      "text/plain": [
       "55"
      ]
     },
     "execution_count": 7,
     "metadata": {},
     "output_type": "execute_result"
    }
   ],
   "source": [
    "res = fibonacci(10)\n",
    "res"
   ]
  },
  {
   "cell_type": "markdown",
   "metadata": {},
   "source": [
    "## 打印尺子"
   ]
  },
  {
   "cell_type": "markdown",
   "metadata": {},
   "source": [
    "当n=1时，\n",
    "\n",
    "输出1\n",
    "\n",
    "当n=2时，\n",
    "\n",
    "输出1 2 1\n",
    "\n",
    "当n=3时，\n",
    "\n",
    "输出1 2 1 3 1 2 1\n",
    "\n",
    "当n=4时，\n",
    "\n",
    "输出1 2 1 3 1 2 1 4 1 2 1 3 1 2 1"
   ]
  },
  {
   "cell_type": "code",
   "execution_count": 12,
   "metadata": {},
   "outputs": [],
   "source": [
    "def rule(n):\n",
    "    if n <=0:\n",
    "        return \n",
    "    if n == 1:\n",
    "        print(1, end=\"\\t\")\n",
    "        return \n",
    "    rule(n - 1)\n",
    "    print(n, end=\"\\t\")\n",
    "    rule(n-1)"
   ]
  },
  {
   "cell_type": "code",
   "execution_count": 14,
   "metadata": {},
   "outputs": [
    {
     "name": "stdout",
     "output_type": "stream",
     "text": [
      "1\t2\t1\t3\t1\t2\t1\t4\t1\t2\t1\t3\t1\t2\t1\t5\t1\t2\t1\t3\t1\t2\t1\t4\t1\t2\t1\t3\t1\t2\t1\t"
     ]
    }
   ],
   "source": [
    "rule(5)"
   ]
  },
  {
   "cell_type": "code",
   "execution_count": 15,
   "metadata": {},
   "outputs": [],
   "source": [
    "def rule_good(n):\n",
    "    if n <= 0:return \n",
    "    if n == 1:\n",
    "        return \"1\"\n",
    "    t = rule_good(n - 1)\n",
    "    return t + \" \" + str(n) + \" \" + t"
   ]
  },
  {
   "cell_type": "code",
   "execution_count": 16,
   "metadata": {},
   "outputs": [
    {
     "data": {
      "text/plain": [
       "'1 2 1 3 1 2 1 4 1 2 1 3 1 2 1'"
      ]
     },
     "execution_count": 16,
     "metadata": {},
     "output_type": "execute_result"
    }
   ],
   "source": [
    "rule_good(4)"
   ]
  },
  {
   "cell_type": "code",
   "execution_count": 19,
   "metadata": {},
   "outputs": [],
   "source": [
    "def rule_for(n):\n",
    "    result = \" \"\n",
    "    for  i in range(1, n+1):\n",
    "        result = result + str(i) + result\n",
    "    return result"
   ]
  },
  {
   "cell_type": "code",
   "execution_count": 20,
   "metadata": {},
   "outputs": [
    {
     "data": {
      "text/plain": [
       "' 1 2 1 3 1 2 1 4 1 2 1 3 1 2 1 '"
      ]
     },
     "execution_count": 20,
     "metadata": {},
     "output_type": "execute_result"
    }
   ],
   "source": [
    "rule_for(4)"
   ]
  },
  {
   "cell_type": "markdown",
   "metadata": {},
   "source": [
    "## 数学表达式"
   ]
  },
  {
   "cell_type": "markdown",
   "metadata": {},
   "source": [
    "给定a和b，其中a大于b，有两种操作，分别是乘2和加1操作。求出最小的操作次数的数学表达式。\n",
    "\n",
    "如：\n",
    "\n",
    "23 = ((5 * 2 + 1) * 2 + 1)\n",
    "\n",
    "113 = ((((11 + 1) + 1) + 1) * 2 * 2 * 2 + 1)"
   ]
  },
  {
   "cell_type": "markdown",
   "metadata": {},
   "source": [
    "解题思路：\n",
    "\n",
    "首先判断a是否与b相等，相等则退出。\n",
    "\n",
    "如果a大于2倍的b，则进行乘2处理。\n",
    "\n",
    "如果a小于2倍的b，则加1。\n",
    "\n",
    "最终将a做除以2和减1的操作。"
   ]
  },
  {
   "cell_type": "code",
   "execution_count": 22,
   "metadata": {},
   "outputs": [],
   "source": [
    "def intSeq(a, b):\n",
    "    if a==b:\n",
    "        return str(b)\n",
    "    if a % 2 == 1:  # a为奇数\n",
    "        return \"(\" +intSeq(a-1, b)+ \" + 1)\"\n",
    "    if a < 2 * b:\n",
    "        return \"(\" +intSeq(a-1, b)+ \" + 1)\"\n",
    "    return intSeq(a/2 ,b) + \" * 2 \""
   ]
  },
  {
   "cell_type": "code",
   "execution_count": 23,
   "metadata": {},
   "outputs": [
    {
     "data": {
      "text/plain": [
       "'((((11 + 1) + 1) + 1) * 2  * 2  * 2  + 1)'"
      ]
     },
     "execution_count": 23,
     "metadata": {},
     "output_type": "execute_result"
    }
   ],
   "source": [
    "a = 113\n",
    "b = 11\n",
    "res = intSeq(a, b)\n",
    "res"
   ]
  },
  {
   "cell_type": "markdown",
   "metadata": {},
   "source": [
    "## 格雷码"
   ]
  },
  {
   "cell_type": "markdown",
   "metadata": {},
   "source": [
    "格雷码有个特点每次仅仅变换一位：\n",
    "\n",
    "如：\n",
    "\n",
    "0000 -> 0001 -> 0011 -> 0010\n",
    "   \n",
    "  enter1  enter2  exit1 ...\n"
   ]
  },
  {
   "cell_type": "markdown",
   "metadata": {},
   "source": [
    "要求打印格雷码的操作"
   ]
  },
  {
   "cell_type": "code",
   "execution_count": 25,
   "metadata": {},
   "outputs": [],
   "source": [
    "def move_idx(n):\n",
    "    if n == 0:\n",
    "        return \n",
    "    move_idx(n-1)\n",
    "    print(n)\n",
    "    move_idx(n-1)"
   ]
  },
  {
   "cell_type": "code",
   "execution_count": 26,
   "metadata": {
    "collapsed": true
   },
   "outputs": [
    {
     "name": "stdout",
     "output_type": "stream",
     "text": [
      "1\n",
      "2\n",
      "1\n",
      "3\n",
      "1\n",
      "2\n",
      "1\n",
      "4\n",
      "1\n",
      "2\n",
      "1\n",
      "3\n",
      "1\n",
      "2\n",
      "1\n",
      "5\n",
      "1\n",
      "2\n",
      "1\n",
      "3\n",
      "1\n",
      "2\n",
      "1\n",
      "4\n",
      "1\n",
      "2\n",
      "1\n",
      "3\n",
      "1\n",
      "2\n",
      "1\n"
     ]
    }
   ],
   "source": [
    "move_idx(5)"
   ]
  },
  {
   "cell_type": "markdown",
   "metadata": {},
   "source": [
    "解题思路：\n",
    "\n",
    "1. 利用一个标志位进行状态的选择\n",
    "2. 当该数值第一次出现的时候，为enter，再一次出现的时候为exit"
   ]
  },
  {
   "cell_type": "code",
   "execution_count": 27,
   "metadata": {},
   "outputs": [],
   "source": [
    "def grey_code_move(n ,flag):\n",
    "    if n == 0:\n",
    "        return \n",
    "    grey_code_move(n-1, True)\n",
    "    print(n, \"enter\") if flag else print(n, \"exit\")\n",
    "    grey_code_move(n-1, False)"
   ]
  },
  {
   "cell_type": "code",
   "execution_count": 29,
   "metadata": {},
   "outputs": [
    {
     "name": "stdout",
     "output_type": "stream",
     "text": [
      "1 enter\n",
      "2 enter\n",
      "1 exit\n",
      "3 enter\n",
      "1 enter\n",
      "2 exit\n",
      "1 exit\n"
     ]
    }
   ],
   "source": [
    "grey_code_move(3,True)"
   ]
  },
  {
   "cell_type": "markdown",
   "metadata": {},
   "source": [
    "## 汉诺塔"
   ]
  },
  {
   "cell_type": "code",
   "execution_count": 33,
   "metadata": {},
   "outputs": [],
   "source": [
    "def hanoi(n, L, M, R):\n",
    "    if n == 1:\n",
    "        print(\"From \" + L + \" To \" + R)\n",
    "    else:\n",
    "        hanoi(n-1, L, R, M) # 处理前n-1层\n",
    "        hanoi(1, L, M, R) # 处理最后一层，就是n为1的情况\n",
    "        hanoi(n-1, M, L, R)"
   ]
  },
  {
   "cell_type": "code",
   "execution_count": 34,
   "metadata": {},
   "outputs": [
    {
     "name": "stdout",
     "output_type": "stream",
     "text": [
      "From left To right\n",
      "From left To middle\n",
      "From right To middle\n",
      "From left To right\n",
      "From middle To left\n",
      "From middle To right\n",
      "From left To right\n"
     ]
    }
   ],
   "source": [
    "n = 3\n",
    "hanoi(n, \"left\", \"middle\", \"right\")"
   ]
  },
  {
   "cell_type": "code",
   "execution_count": null,
   "metadata": {},
   "outputs": [],
   "source": []
  },
  {
   "cell_type": "code",
   "execution_count": null,
   "metadata": {},
   "outputs": [],
   "source": []
  }
 ],
 "metadata": {
  "kernelspec": {
   "display_name": "Python 3",
   "language": "python",
   "name": "python3"
  },
  "language_info": {
   "codemirror_mode": {
    "name": "ipython",
    "version": 3
   },
   "file_extension": ".py",
   "mimetype": "text/x-python",
   "name": "python",
   "nbconvert_exporter": "python",
   "pygments_lexer": "ipython3",
   "version": "3.6.10"
  }
 },
 "nbformat": 4,
 "nbformat_minor": 4
}
